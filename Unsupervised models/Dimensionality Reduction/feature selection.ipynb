{
 "cells": [
  {
   "cell_type": "code",
   "execution_count": null,
   "id": "5d1c0055",
   "metadata": {},
   "outputs": [],
   "source": [
    "# Feature Selection algorithms:\n",
    "# - Recursive Feature Elimination (RFE)\n",
    "# - Recursive Feature Elimination with Cross-Validation (RFECV) \n",
    "# - SelectFromModel\n",
    "# - SelectKBest     \n",
    "# - SelectPercentile\n",
    "\n",
    "    "
   ]
  }
 ],
 "metadata": {
  "language_info": {
   "name": "python"
  }
 },
 "nbformat": 4,
 "nbformat_minor": 5
}
