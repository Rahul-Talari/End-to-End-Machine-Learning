{
 "cells": [
  {
   "cell_type": "markdown",
   "metadata": {},
   "source": [
    "### Lasso Regression"
   ]
  },
  {
   "cell_type": "code",
   "execution_count": null,
   "metadata": {},
   "outputs": [],
   "source": [
    "import sklearn.linear_model\n",
    "\n",
    "lasso\n",
    "lassocv\n",
    "lassolars\n",
    "lassolars\n",
    "MultiTaskLasso\n",
    "MultiTaskLassoCv\n",
    "\n",
    "lasso_regression=sklearn.linear_model.Lasso(\n",
    "    class Lasso(\n",
    "    alpha: Float = 1,\n",
    "    *,\n",
    "    fit_intercept: bool = True,\n",
    "    precompute: MatrixLike | bool = False,\n",
    "    copy_X: bool = True,\n",
    "    max_iter: Int = 1000,\n",
    "    tol: Float = 0.0001,\n",
    "    warm_start: bool = False,\n",
    "    positive: bool = False,\n",
    "    random_state: Int | None = None,\n",
    "    selection: Literal['cyclic', 'random'] = \"cyclic\"\n",
    ")\n",
    ")"
   ]
  },
  {
   "cell_type": "code",
   "execution_count": null,
   "metadata": {},
   "outputs": [],
   "source": []
  },
  {
   "cell_type": "code",
   "execution_count": null,
   "metadata": {},
   "outputs": [],
   "source": []
  },
  {
   "cell_type": "code",
   "execution_count": null,
   "metadata": {},
   "outputs": [],
   "source": []
  },
  {
   "cell_type": "code",
   "execution_count": null,
   "metadata": {},
   "outputs": [],
   "source": []
  },
  {
   "cell_type": "code",
   "execution_count": null,
   "metadata": {},
   "outputs": [],
   "source": []
  }
 ],
 "metadata": {
  "kernelspec": {
   "display_name": "virtaul_env",
   "language": "python",
   "name": "python3"
  },
  "language_info": {
   "codemirror_mode": {
    "name": "ipython",
    "version": 3
   },
   "file_extension": ".py",
   "mimetype": "text/x-python",
   "name": "python",
   "nbconvert_exporter": "python",
   "pygments_lexer": "ipython3",
   "version": "3.12.4"
  }
 },
 "nbformat": 4,
 "nbformat_minor": 2
}
