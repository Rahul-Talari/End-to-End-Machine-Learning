{
 "cells": [
  {
   "cell_type": "markdown",
   "metadata": {},
   "source": [
    "### Stacking Regressor"
   ]
  },
  {
   "cell_type": "code",
   "execution_count": 1,
   "metadata": {},
   "outputs": [],
   "source": [
    "import sklearn.ensemble\n",
    "from sklearn.linear_model import RidgeCV\n",
    "from sklearn.ensemble import RandomForestRegressor\n",
    "from sklearn.svm import SVR\n",
    "from sklearn.model_selection import StratifiedKFold\n",
    "\n",
    "# Example estimators for stacking\n",
    "estimators = [\n",
    "    ('rf', RandomForestRegressor(n_estimators=10)),  # Random Forest Regressor with 10 estimators as a base model\n",
    "    ('svr', SVR(kernel='linear'))                    # Support Vector Regressor with a linear kernel as another base model\n",
    "]\n",
    "\n",
    "# Initialize Stacking Regressor model\n",
    "stacking_regressor_model = sklearn.ensemble.StackingRegressor(\n",
    "    estimators=estimators,  # List of base estimators, where each tuple contains a name and an estimator\n",
    "    final_estimator=RidgeCV(),  # The final estimator that makes the predictions after combining base model outputs. RidgeCV is used here.\n",
    "    cv=StratifiedKFold(n_splits=5),  # Cross-validation strategy; StratifiedKFold with 5 splits is used for evaluating base models.\n",
    "    n_jobs=-1,  # Use all available processors for parallel computation\n",
    "    passthrough=False,  # Set to False, meaning input features will not be passed directly to the final estimator, only predictions from base models\n",
    "    verbose=1  # Verbosity level, set to 1 for detailed output during model fitting\n",
    ")\n"
   ]
  },
  {
   "cell_type": "code",
   "execution_count": null,
   "metadata": {},
   "outputs": [],
   "source": []
  }
 ],
 "metadata": {
  "kernelspec": {
   "display_name": "virtaul_env",
   "language": "python",
   "name": "python3"
  },
  "language_info": {
   "codemirror_mode": {
    "name": "ipython",
    "version": 3
   },
   "file_extension": ".py",
   "mimetype": "text/x-python",
   "name": "python",
   "nbconvert_exporter": "python",
   "pygments_lexer": "ipython3",
   "version": "3.13.0"
  }
 },
 "nbformat": 4,
 "nbformat_minor": 2
}
