{
 "cells": [
  {
   "cell_type": "markdown",
   "metadata": {},
   "source": [
    "| **Class Instances**    | **Functions**         | **Description**                                                                                                      |\n",
    "|------------------------|-----------------------|----------------------------------------------------------------------------------------------------------------------|\n",
    "| **StandardScaler**    | **scale**             | When quick standardization is required without setting up an explicit scaler.                                         |\n",
    "| **MinMaxScaler**       | **minmax_scale**      | When all features need to be scaled to a bounded range, such as [0, 1].<br>Ex: KNN, ANN.                             |\n",
    "| **RobustScaler**       | **robust_scale**      | When the dataset contains outliers that would distort other scalers like MinMax or StandardScaler.<br>Ex: To handle outliers. |\n",
    "| **MaxAbsScaler**       | **maxabs_scale**      | When you have sparse data or features with mixed signs, and you need to preserve sparsity.                           |\n",
    "\n",
    "- For one-time scaling, functions are typically faster and simpler. \n",
    "- For multiple uses or in pipelines, classes are preferred. "
   ]
  },
  {
   "cell_type": "markdown",
   "metadata": {},
   "source": [
    "#### Class instances"
   ]
  },
  {
   "cell_type": "code",
   "execution_count": null,
   "metadata": {},
   "outputs": [],
   "source": [
    "import sklearn.preprocessing\n",
    "\n",
    "maxabsscaler=sklearn.preprocessing.MaxAbsScaler()\n",
    "minmaxscaler=sklearn.preprocessing.MinMaxScaler()\n",
    "robustscaler=sklearn.preprocessing.RobustScaler()\n",
    "standardscaler=sklearn.preprocessing.StandardScaler()\n",
    "\n",
    "\n",
    "# Example:\n",
    "import pandas as pd\n",
    "from sklearn.preprocessing import MinMaxScaler\n",
    "from sklearn.datasets import load_iris\n",
    "\n",
    "iris = load_iris()         \n",
    "X,y = iris.data,iris.target\n",
    "\n",
    "scaler = MinMaxScaler()\n",
    "X_scaled = scaler.fit_transform(X)\n",
    "\n",
    "scaled_df = pd.DataFrame(X_scaled, columns=iris.feature_names)\n",
    "print(scaled_df.head())\n",
    "X_df = pd.DataFrame(X, columns=iris.feature_names)\n",
    "print(X_df.head())\n"
   ]
  },
  {
   "cell_type": "markdown",
   "metadata": {},
   "source": [
    "### Objects"
   ]
  },
  {
   "cell_type": "code",
   "execution_count": null,
   "metadata": {},
   "outputs": [],
   "source": [
    "import sklearn.preprocessing\n",
    "\n",
    "# Function instances\n",
    "maxabs_scaled = sklearn.preprocessing.maxabs_scale('data')\n",
    "minmax_scaled = sklearn.preprocessing.minmax_scale('data')\n",
    "robust_scaled = sklearn.preprocessing.robust_scale('data')\n",
    "standard_scaled = sklearn.preprocessing.scale('data')\n",
    "\n",
    "\n",
    "# Example:\n",
    "import numpy as np\n",
    "import pandas as pd\n",
    "from sklearn.preprocessing import minmax_scale\n",
    "from sklearn.datasets import load_iris\n",
    "\n",
    "iris = load_iris()              # Load the Iris dataset\n",
    "X,y = iris.data,iris.target\n",
    "\n",
    "X_scaled = minmax_scale(X)      # Scale the data using the function version (minmax_scale)\n",
    "\n",
    "scaled_df = pd.DataFrame(X_scaled, columns=iris.feature_names)\n",
    "print(scaled_df.head())\n",
    "X_df = pd.DataFrame(X, columns=iris.feature_names)\n",
    "print(X_df.head())\n"
   ]
  }
 ],
 "metadata": {
  "kernelspec": {
   "display_name": "virtaul_env",
   "language": "python",
   "name": "python3"
  },
  "language_info": {
   "codemirror_mode": {
    "name": "ipython",
    "version": 3
   },
   "file_extension": ".py",
   "mimetype": "text/x-python",
   "name": "python",
   "nbconvert_exporter": "python",
   "pygments_lexer": "ipython3",
   "version": "3.13.0"
  }
 },
 "nbformat": 4,
 "nbformat_minor": 2
}
