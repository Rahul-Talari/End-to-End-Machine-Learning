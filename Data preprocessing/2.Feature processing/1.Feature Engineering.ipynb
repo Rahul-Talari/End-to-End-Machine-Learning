{
 "cells": [
  {
   "cell_type": "markdown",
   "metadata": {},
   "source": [
    "### Feature Engineering on Numerical data:\n",
    "- Binarization\n",
    "- Rounding\n",
    "- Binning\n",
    "- Interactions & Transformations."
   ]
  },
  {
   "cell_type": "markdown",
   "metadata": {},
   "source": [
    "### Feature Engineering on Categorical data:\n",
    "- categorical data\n",
    "- Nominal data"
   ]
  },
  {
   "cell_type": "markdown",
   "metadata": {},
   "source": [
    "### Binarization and Label Encoding\n",
    "\n",
    "| **Method**              | **Description**                                                              |\n",
    "|-------------------------|------------------------------------------------------------------------------|\n",
    "| **Binarizer**            | Binarize data (set feature values to 0 or 1) according to a threshold.      |\n",
    "| **LabelBinarizer**      | Binarize labels in a one-vs-all fashion.                                     |\n",
    "| **MultiLabelBinarizer** | Transform between iterable of iterables and a multilabel format.            |\n",
    "| **label_binarize**      | Binarize labels in a one-vs-all fashion.                                     |\n"
   ]
  },
  {
   "cell_type": "code",
   "execution_count": null,
   "metadata": {},
   "outputs": [],
   "source": [
    "import sklearn.preprocessing\n",
    "\n",
    "\n",
    "# Binarizer converts numerical data into binary values (0 or 1) based on a threshold.\n",
    "# Values greater than or equal to the threshold become 1, and those below become 0.\n",
    "binarizer = sklearn.preprocessing.Binarizer(threshold=\"value\")\n",
    "\n",
    "# LabelBinarizer converts categorical labels into a binary format, typically used for one-hot encoding in classification tasks.\n",
    "# It transforms each label into a separate binary vector, with each class represented by its own column.\n",
    "labelbinarizer = sklearn.preprocessing.LabelBinarizer()\n",
    "\n",
    "# MultiLabelBinarizer handles multi-label classification by converting multiple labels for each sample into a binary matrix.\n",
    "# Each label is represented by a separate column, and samples are encoded with multiple 1's as appropriate.\n",
    "multilabelbbinarizer = sklearn.preprocessing.MultiLabelBinarizer()\n",
    "\n",
    "\n",
    "labelbinarize=sklearn.preprocessing.label_binarize()"
   ]
  },
  {
   "cell_type": "code",
   "execution_count": null,
   "metadata": {},
   "outputs": [],
   "source": [
    "from sklearn.preprocessing import LabelBinarizer\n",
    "from sklearn.preprocessing import label_binarize\n",
    "\n",
    "# Sample data: Categories of animals\n",
    "labels = ['cat', 'dog', 'dog', 'bird', 'cat', 'bird']\n",
    "\n",
    "label_binarizer = LabelBinarizer()\n",
    "binary_labels = label_binarizer.fit_transform(labels)\n",
    "print(\"Binarized labels using LabelBinarizer:\")\n",
    "print(binary_labels)\n",
    "\n",
    "\n",
    "classes = ['bird', 'cat', 'dog']\n",
    "binary_labels = label_binarize(labels, classes=classes)\n",
    "print(\"\\nBinarized labels using label_binarize:\")\n",
    "print(binary_labels)"
   ]
  },
  {
   "cell_type": "markdown",
   "metadata": {},
   "source": [
    "\n",
    "### Encoding Categorical Features\n",
    "\n",
    "| **Method**              | **Description**                                                              |\n",
    "|-------------------------|------------------------------------------------------------------------------|\n",
    "| **OneHotEncoder**       | Encode categorical features as a one-hot numeric array.                      |\n",
    "| **OrdinalEncoder**      | Encode categorical features as an integer array, ordering categories by sorting them alphabetically.|\n",
    "| **TargetEncoder**       | Target Encoder for regression and classification targets.                    |\n"
   ]
  },
  {
   "cell_type": "markdown",
   "metadata": {},
   "source": [
    "#### Ordinal encoder."
   ]
  },
  {
   "cell_type": "code",
   "execution_count": null,
   "metadata": {},
   "outputs": [],
   "source": [
    "from sklearn.preprocessing import OneHotEncoder\n",
    "\n",
    "onehotencoder = OneHotEncoder()\n",
    "\n",
    "# Example:\n",
    "import pandas as pd\n",
    "from sklearn.preprocessing import OneHotEncoder\n",
    "\n",
    "data = {\n",
    "    'Product_ID': [1, 2, 3, 4, 5],\n",
    "    'Category': ['Electronics', 'Clothing', 'Furniture', 'Clothing', 'Electronics']\n",
    "}\n",
    "df = pd.DataFrame(data)\n",
    "\n",
    "onehotencoder = OneHotEncoder()\n",
    "encoded_data = onehotencoder.fit_transform(df[['Category']])\n",
    "encoded_df = pd.DataFrame(encoded_data.toarray(), columns=onehotencoder.categories_[0])\n",
    "\n",
    "df = pd.concat([df, encoded_df])\n",
    "df.head()\n",
    "\n",
    "\n",
    "# <-------------------------------------------------------(or)------------------------------------------------------->\n",
    "## Manual\n",
    "\n",
    "import pandas as pd\n",
    "\n",
    "data = {\n",
    "    'City': ['New York', 'Chicago', 'New York', 'Dallas', 'Chicago']\n",
    "}\n",
    "df = pd.DataFrame(data)\n",
    "\n",
    "unique_cities = df['City'].unique()     # Step 1: Get the unique categories (i.e., columns for each unique category)\n",
    "for city in unique_cities:              # Step 2: Create a new column for each unique category and assign 1 or 0 based on presence\n",
    "    df[city] = df['City'].apply(lambda x: 1 if x == city else 0)\n",
    "df"
   ]
  },
  {
   "cell_type": "markdown",
   "metadata": {},
   "source": [
    "#### Label encoder."
   ]
  },
  {
   "cell_type": "code",
   "execution_count": null,
   "metadata": {},
   "outputs": [],
   "source": [
    "import sklearn.preprocessing\n",
    "\n",
    "labelencoder=sklearn.preprocessing.LabelEncoder()\n",
    "\n",
    "# Example:\n",
    "import pandas as pd\n",
    "import sklearn.preprocessing\n",
    "\n",
    "# Sample dataset with 'Level' column\n",
    "data = {\n",
    "    'Product_ID': [1, 2, 3, 4, 5],\n",
    "    'Level': ['small','large','medium','extra-large','large']\n",
    "}\n",
    "df = pd.DataFrame(data)\n",
    "\n",
    "labelencoder = sklearn.preprocessing.LabelEncoder()\n",
    "df['Level_encoded'] = labelencoder.fit_transform(df['Level'])               # Apply LabelEncoder to the 'Level' column\n",
    "df['Level_decoded'] = labelencoder.inverse_transform(df['Level_encoded'])   # To get the reverse mapping (i.e: map numbers back to original labels)\n",
    "\n",
    "print(\"\\nDecoded DataFrame:\\n\",df)\n",
    "\n",
    "\n",
    "# <-------------------------------------------------------(or)------------------------------------------------------->\n",
    "## Manual\n",
    "\n",
    "\n",
    "\n",
    "import pandas as pd\n",
    "\n",
    "data = {\n",
    "    'Product_ID': [1, 2, 3, 4, 5],\n",
    "    'Level': ['low', 'high', 'medium', 'medium', 'low']\n",
    "}\n",
    "df = pd.DataFrame(data)\n",
    "\n",
    "level_mapping = {'low':1 , 'medium': 2, 'high': 3}      # Define a mapping dictionary\n",
    "df['Level_encoded'] = df['Level'].map(level_mapping)    # Apply the mapping using the map function\n",
    "df"
   ]
  },
  {
   "cell_type": "markdown",
   "metadata": {},
   "source": [
    "#### Target Encoder"
   ]
  },
  {
   "cell_type": "code",
   "execution_count": null,
   "metadata": {},
   "outputs": [],
   "source": [
    "import pandas as pd\n",
    "\n",
    "data = {\n",
    "    'City': ['New York', 'Chicago', 'New York', 'Chicago', 'Dallas'],\n",
    "    'Price': [500, 300, 550, 400, 350]\n",
    "}\n",
    "df = pd.DataFrame(data)\n",
    "\n",
    "city_mean = df.groupby('City')['Price'].mean()      # Step 1: Calculate the mean of the 'Price' column for each unique 'City'\n",
    "df['City_encoded'] = df['City'].map(city_mean)      # Step 2: Replace the 'City' column with the mean 'Price' for each city\n",
    "df"
   ]
  },
  {
   "cell_type": "markdown",
   "metadata": {},
   "source": [
    "### Transformation and Feature Generation\n",
    "| **Method**            | **Description**                                                                                       |\n",
    "|-----------------------|-------------------------------------------------------------------------------------------------------|\n",
    "| **FunctionTransformer** | Constructs a transformer from an arbitrary callable.                                                  |\n",
    "| **PolynomialFeatures**  | Generate polynomial and interaction features.                                                         |\n",
    "| **PowerTransformer**    | Apply a power transform featurewise to make data more Gaussian-like.                                  |\n",
    "| **QuantileTransformer** | Transform features using quantiles information.                                                     |\n",
    "| **SplineTransformer**   | Generate univariate B-spline bases for features.                                                     |\n"
   ]
  },
  {
   "cell_type": "code",
   "execution_count": null,
   "metadata": {},
   "outputs": [],
   "source": [
    "functiontransformer=sklearn.preprocessing.FunctionTransformer(\n",
    "    func: ufunc | ((...) -> Any) | None = None,\n",
    "    inverse_func: ufunc | ((...) -> Any) | None = None,\n",
    "    *,\n",
    "    validate: bool = False,\n",
    "    accept_sparse: bool = False,\n",
    "    check_inverse: bool = True,\n",
    "    feature_names_out: str | ((...) -> Any) | None = None,\n",
    "    kw_args: dict | None = None,\n",
    "    inv_kw_args: dict | None = None\n",
    ")\n",
    ")"
   ]
  },
  {
   "cell_type": "code",
   "execution_count": null,
   "metadata": {},
   "outputs": [],
   "source": []
  }
 ],
 "metadata": {
  "kernelspec": {
   "display_name": "virtaul_env",
   "language": "python",
   "name": "python3"
  },
  "language_info": {
   "codemirror_mode": {
    "name": "ipython",
    "version": 3
   },
   "file_extension": ".py",
   "mimetype": "text/x-python",
   "name": "python",
   "nbconvert_exporter": "python",
   "pygments_lexer": "ipython3",
   "version": "3.13.0"
  }
 },
 "nbformat": 4,
 "nbformat_minor": 2
}
