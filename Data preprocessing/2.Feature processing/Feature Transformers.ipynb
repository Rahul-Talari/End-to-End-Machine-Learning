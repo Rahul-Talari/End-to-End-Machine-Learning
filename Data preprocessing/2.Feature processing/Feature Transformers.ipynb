{
 "cells": [
  {
   "cell_type": "markdown",
   "metadata": {},
   "source": [
    "| **Method**                  | **Description**                                                                                     |\n",
    "|-----------------------------|-----------------------------------------------------------------------------------------------------|\n",
    "| **ColumnTransformer**        | Applies transformers to columns of an array or pandas DataFrame.                                    |\n",
    "| **TransformedTargetRegressor** | Meta-estimator to regress on a transformed target.                                                 |\n",
    "| **make_column_selector**    | Create a callable to select columns to be used with ColumnTransformer.                              |\n",
    "| **make_column_transformer** | Construct a ColumnTransformer from the given transformers.                                          |\n"
   ]
  },
  {
   "cell_type": "code",
   "execution_count": null,
   "metadata": {},
   "outputs": [
    {
     "name": "stdout",
     "output_type": "stream",
     "text": [
      "Requirement already satisfied: pip in c:\\users\\admin\\onedrive\\desktop\\machine learning\\virtaul_env\\lib\\site-packages (24.3.1)\n"
     ]
    },
    {
     "name": "stderr",
     "output_type": "stream",
     "text": [
      "ERROR: Could not find a version that satisfies the requirement autogluon (from versions: none)\n",
      "ERROR: No matching distribution found for autogluon\n"
     ]
    }
   ],
   "source": []
  },
  {
   "cell_type": "code",
   "execution_count": null,
   "metadata": {},
   "outputs": [],
   "source": []
  },
  {
   "cell_type": "code",
   "execution_count": null,
   "metadata": {},
   "outputs": [],
   "source": []
  },
  {
   "cell_type": "code",
   "execution_count": null,
   "metadata": {},
   "outputs": [],
   "source": []
  },
  {
   "cell_type": "code",
   "execution_count": null,
   "metadata": {},
   "outputs": [],
   "source": []
  }
 ],
 "metadata": {
  "kernelspec": {
   "display_name": "virtaul_env",
   "language": "python",
   "name": "python3"
  },
  "language_info": {
   "codemirror_mode": {
    "name": "ipython",
    "version": 3
   },
   "file_extension": ".py",
   "mimetype": "text/x-python",
   "name": "python",
   "nbconvert_exporter": "python",
   "pygments_lexer": "ipython3",
   "version": "3.13.0"
  }
 },
 "nbformat": 4,
 "nbformat_minor": 2
}
