{
 "cells": [
  {
   "cell_type": "markdown",
   "metadata": {},
   "source": [
    "# Dimensionality Reduction\n",
    "\n",
    "## Feature Selection\n",
    "\n",
    "| **Category**             | **Methods**                                |\n",
    "|---------------------------|--------------------------------------------|\n",
    "| **Measures of Association** | Covariance                                |\n",
    "|                           | Pearson’s Correlation & Causation          |\n",
    "|                           | Spearman's Rank Correlation Coefficient    |\n",
    "|                           | Mutual Information                         |\n"
   ]
  },
  {
   "cell_type": "markdown",
   "metadata": {},
   "source": [
    "\n",
    "## Feature Projection\n",
    "\n",
    "| **Category**             | **Methods**                                |\n",
    "|---------------------------|--------------------------------------------|\n",
    "| **Manifold Learning**     | t-SNE (t-Distributed Stochastic Neighbor Embedding) |\n",
    "|                           | UMAP (Uniform Manifold Approximation and Projection) |\n",
    "| **Decomposition Techniques** | Principal Component Analysis (PCA)       |\n",
    "|                           | Independent Component Analysis (ICA)       |\n",
    "|                           | Singular Value Decomposition (SVD)         |\n",
    "| **Discriminant Analysis** | Linear Discriminant Analysis (LDA)         |\n",
    "|                           | Quadratic Discriminant Analysis (QDA)      |\n",
    "|                           | Generalized Discriminant Analysis (GDA)    |\n",
    "| **Matrix Factorization**  | Non-negative Matrix Decomposition          |\n",
    "|                           | Sequential Non-negative Matrix Factorization (NMF) |\n"
   ]
  },
  {
   "cell_type": "markdown",
   "metadata": {},
   "source": [
    "# sklearn.feature_selection Techniques\n",
    "\n",
    "## General Feature Selection\n",
    "| **Technique**               | **Description**                                                                 |\n",
    "|------------------------------|---------------------------------------------------------------------------------|\n",
    "| `GenericUnivariateSelect`    | Univariate feature selector with configurable strategy.                        |\n",
    "| `SelectFromModel`            | Meta-transformer for selecting features based on importance weights.           |\n",
    "| `VarianceThreshold`          | Removes all low-variance features.                                             |\n",
    "| `SequentialFeatureSelector`  | Transformer that performs sequential feature selection.                        |\n",
    "| `SelectorMixin`              | Transformer mixin that performs feature selection given a support mask.        |\n",
    "\n",
    "---\n",
    "\n",
    "## Recursive Feature Elimination (RFE)\n",
    "| **Technique**    | **Description**                                                                           |\n",
    "|-------------------|-------------------------------------------------------------------------------------------|\n",
    "| `RFE`            | Feature ranking with recursive feature elimination.                                       |\n",
    "| `RFECV`          | Recursive feature elimination with cross-validation to select features.                   |\n",
    "\n",
    "---\n",
    "\n",
    "## Statistical Feature Selection\n",
    "| **Technique**     | **Description**                                                                          |\n",
    "|--------------------|------------------------------------------------------------------------------------------|\n",
    "| `SelectKBest`      | Select features according to the k highest scores.                                       |\n",
    "| `SelectPercentile` | Select features according to a percentile of the highest scores.                        |\n",
    "| `SelectFpr`        | Select p-values below alpha based on a false positive rate (FPR) test.                   |\n",
    "| `SelectFdr`        | Select p-values for an estimated false discovery rate (FDR).                            |\n",
    "| `SelectFwe`        | Select p-values corresponding to a family-wise error rate (FWE).                        |\n",
    "\n",
    "---\n",
    "\n",
    "## Statistical Tests\n",
    "| **Test**                 | **Description**                                                                   |\n",
    "|---------------------------|-----------------------------------------------------------------------------------|\n",
    "| `chi2`                   | Compute chi-squared stats between each non-negative feature and class.            |\n",
    "| `f_classif`              | Compute the ANOVA F-value for the provided sample.                                |\n",
    "| `mutual_info_classif`    | Estimate mutual information for a discrete target variable.                       |\n",
    "| `r_regression`           | Compute Pearson's r for each feature and the target.   (Pearson’s Correlation)                           |\n",
    "| `f_regression`           | Univariate linear regression tests returning F-statistic and p-values.            |\n",
    "| `mutual_info_regression` | Estimate mutual information for a continuous target variable.                     |\n"
   ]
  },
  {
   "cell_type": "code",
   "execution_count": null,
   "metadata": {},
   "outputs": [],
   "source": [
    "import sklearn.feature_selection\n",
    "\n",
    "# Compute chi-squared statistics and p-values\n",
    "chi2_stats, p_values = sklearn.feature_selection.chi2('input_data', 'target_data')\n",
    "\n",
    "'''\n",
    "Chi-square statistic measures the strength of the relationship between a feature and the target.\n",
    "Higher values indicate stronger associations between the feature and target.\n",
    "P-value indicates the statistical significance; lower p-values (typically < 0.05) suggest a feature is meaningful.\n",
    "\n",
    "Interpretation of p-values:\n",
    "- p-value < 0.05  : Statistically significant, feature is likely important.\n",
    "- p-value < 0.01  : Strong significance, feature has a meaningful relationship.\n",
    "- p-value < 0.001 : Very strong significance, feature is highly important.\n",
    "'''\n",
    "\n",
    "# Compute F-statistics and p-values for classification tasks (using f_classif)\n",
    "f_stats, p_values = sklearn.feature_selection.f_classif(X, y)\n",
    "\n",
    "'''\n",
    " The F-test compares the variance between group means to the variance within groups.\n",
    " If the between-group variance is much larger, it suggests the group means are significantly different from each other\n",
    " Higher F-values indicate a stronger relationship between the feature and target.\n",
    "'''\n"
   ]
  },
  {
   "cell_type": "code",
   "execution_count": null,
   "metadata": {},
   "outputs": [],
   "source": [
    "from sklearn.datasets import load_breast_cancer\n",
    "from sklearn.feature_selection import chi2\n",
    "import pandas as pd\n",
    "\n",
    "# Load the breast cancer dataset\n",
    "X, y = load_breast_cancer(return_X_y=True)\n",
    "\n",
    "# Compute the chi-squared statistics and p-values\n",
    "chi2_stats, p_values = chi2(X, y)\n",
    "\n",
    "feature_names = load_breast_cancer().feature_names  # Get feature names\n",
    "result_df = pd.DataFrame({                          # Create a DataFrame to display the feature names along with their chi-squared stats and p-values\n",
    "    'Feature': feature_names,\n",
    "    'Chi-squared Statistic': chi2_stats,\n",
    "    'P-value': p_values\n",
    "})\n",
    "\n",
    "# Sort the results by Chi-squared statistic in descending order\n",
    "result_df_sorted = result_df.sort_values(by=['Chi-squared Statistic','P-value'], ascending=[False,True])\n",
    "result_df_sorted"
   ]
  },
  {
   "cell_type": "code",
   "execution_count": null,
   "metadata": {},
   "outputs": [],
   "source": [
    "from sklearn.feature_selection import f_classif\n",
    "import numpy as np\n",
    "from sklearn.datasets import load_breast_cancer\n",
    "\n",
    "# Load dataset\n",
    "X, y = load_breast_cancer(return_X_y=True)\n",
    "\n",
    "# Perform ANOVA F-test\n",
    "f_stats, p_values = f_classif(X, y)\n",
    "\n",
    "feature_names = load_breast_cancer().feature_names  # Get feature names\n",
    "result_df = pd.DataFrame({                          # Create a DataFrame to display the feature names along with their chi-squared stats and p-values\n",
    "    'Feature': feature_names,\n",
    "    'f- Statistic': f_stats,\n",
    "    'P-value': p_values\n",
    "})\n",
    "\n",
    "# Sort the results by Chi-squared statistic in descending order\n",
    "result_df_sorted = result_df.sort_values(by=['f_stats','P-value'], ascending=[False,True])\n",
    "result_df_sorted"
   ]
  },
  {
   "cell_type": "code",
   "execution_count": null,
   "metadata": {},
   "outputs": [],
   "source": []
  },
  {
   "cell_type": "code",
   "execution_count": null,
   "metadata": {},
   "outputs": [],
   "source": []
  },
  {
   "cell_type": "code",
   "execution_count": null,
   "metadata": {},
   "outputs": [],
   "source": []
  },
  {
   "cell_type": "code",
   "execution_count": null,
   "metadata": {},
   "outputs": [],
   "source": []
  },
  {
   "cell_type": "code",
   "execution_count": null,
   "metadata": {},
   "outputs": [],
   "source": []
  },
  {
   "cell_type": "code",
   "execution_count": null,
   "metadata": {},
   "outputs": [],
   "source": []
  },
  {
   "cell_type": "code",
   "execution_count": null,
   "metadata": {},
   "outputs": [],
   "source": []
  },
  {
   "cell_type": "code",
   "execution_count": null,
   "metadata": {},
   "outputs": [],
   "source": []
  },
  {
   "cell_type": "code",
   "execution_count": null,
   "metadata": {},
   "outputs": [],
   "source": []
  },
  {
   "cell_type": "code",
   "execution_count": null,
   "metadata": {},
   "outputs": [],
   "source": []
  },
  {
   "cell_type": "markdown",
   "metadata": {},
   "source": [
    "### General Feature Selection"
   ]
  },
  {
   "cell_type": "code",
   "execution_count": null,
   "metadata": {},
   "outputs": [],
   "source": [
    "import sklearn.feature_selection\n",
    "from sklearn.feature_selection import f_classif\n",
    "# Create a GenericUnivariateSelect object\n",
    "selector = sklearn.feature_selection.GenericUnivariateSelect(\n",
    "    score_func=f_classif,  # Measures the relationship between each feature and the target using ANOVA F-value.\n",
    "                           # Other possible values for score_func:\n",
    "                           # - `f_classif`: For classification tasks with continuous features (ANOVA F-test).\n",
    "                           # - `chi2`: For classification tasks with categorical features.\n",
    "                           # - `mutual_info_classif`: For classification tasks, measures mutual information.\n",
    "                           # - `f_regression`: For regression tasks with continuous features (ANOVA F-test).\n",
    "                           # - `mutual_info_regression`: For regression tasks, measures mutual information.\n",
    "    mode='percentile',     # Determines the strategy for selecting features.\n",
    "                           # - 'percentile': Retain features based on their percentile score.\n",
    "                           # - 'k_best': Retain the top `k` features.\n",
    "                           # - 'fpr': Retain features with p-values below the threshold.\n",
    "                           # - 'fdr': Select using False Discovery Rate.\n",
    "                           # - 'fwe': Select using Family-Wise Error rate.\n",
    "    param=1.0              # Controls the extent of feature selection based on `mode`:\n",
    "                           #   - For 'percentile': Value is a float (0-100), representing the percentage of features to retain.\n",
    "                           #   - For 'k_best': Value is an integer, specifying the number of top features to keep.\n",
    "                           #   - For 'fpr', 'fdr', or 'fwe': Value is a float, representing the statistical threshold.\n",
    "                                #fpr: 0.01 to 0.05 (typically 0.05).\n",
    "                                #fdr: 0.01 to 0.05 (typically 0.05).\n",
    "                                #fwe: 0.01 to 0.05 (typically 0.01)\n",
    ")\n",
    "\n",
    "\n",
    "from sklearn.datasets import load_breast_cancer\n",
    "from sklearn.feature_selection import GenericUnivariateSelect, chi2\n",
    "X, y = load_breast_cancer(return_X_y=True)\n",
    "print(X.shape)\n",
    "transformer = GenericUnivariateSelect(chi2, mode='fpr',param=0.005)\n",
    "X_new = transformer.fit_transform(X, y)\n",
    "print(X_new.shape)\n"
   ]
  },
  {
   "cell_type": "code",
   "execution_count": null,
   "metadata": {},
   "outputs": [],
   "source": [
    "SelectFromModel_selection=sklearn.feature_selection.SelectFromModel(\n",
    "estimator: Any,\n",
    "    *,\n",
    "    threshold: float | str | None = None,\n",
    "    prefit: bool = False,\n",
    "    norm_order: float | int = 1,\n",
    "    max_features: ((...) -> Any) | int | None = None,\n",
    "    importance_getter: str | ((...) -> Any) = \"auto\"\n",
    ")\n"
   ]
  },
  {
   "cell_type": "code",
   "execution_count": null,
   "metadata": {},
   "outputs": [],
   "source": [
    "# VarianceThreshold\n",
    "# SequentialFeatureSelector\n",
    "# SelectorMixin"
   ]
  },
  {
   "cell_type": "code",
   "execution_count": null,
   "metadata": {},
   "outputs": [],
   "source": []
  },
  {
   "cell_type": "code",
   "execution_count": null,
   "metadata": {},
   "outputs": [],
   "source": []
  }
 ],
 "metadata": {
  "kernelspec": {
   "display_name": "virtaul_env",
   "language": "python",
   "name": "python3"
  },
  "language_info": {
   "codemirror_mode": {
    "name": "ipython",
    "version": 3
   },
   "file_extension": ".py",
   "mimetype": "text/x-python",
   "name": "python",
   "nbconvert_exporter": "python",
   "pygments_lexer": "ipython3",
   "version": "3.13.0"
  }
 },
 "nbformat": 4,
 "nbformat_minor": 2
}
