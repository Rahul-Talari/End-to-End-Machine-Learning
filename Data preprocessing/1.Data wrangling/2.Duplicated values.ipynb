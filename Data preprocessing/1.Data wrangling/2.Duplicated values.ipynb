{
 "cells": [
  {
   "cell_type": "code",
   "execution_count": null,
   "metadata": {},
   "outputs": [],
   "source": [
    "import pandas as pd\n",
    "df=pd.readcsv('path')\n",
    "\n",
    "\n",
    "# Check for duplicated rows\n",
    "duplicated_rows = df.duplicated()      #df.duplicated() returns True for rows that are identical to any previous row, indicating duplicates.\n",
    "\n",
    "\n",
    "# Count the number of duplicated rows\n",
    "print(\"Number of duplicated rows:\", duplicated_rows.sum())\n",
    "\n",
    "# If you want to get the rows that are duplicated\n",
    "duplicated_data = df[duplicated_rows]\n",
    "print(duplicated_data)"
   ]
  }
 ],
 "metadata": {
  "kernelspec": {
   "display_name": "virtaul_env",
   "language": "python",
   "name": "python3"
  },
  "language_info": {
   "codemirror_mode": {
    "name": "ipython",
    "version": 3
   },
   "file_extension": ".py",
   "mimetype": "text/x-python",
   "name": "python",
   "nbconvert_exporter": "python",
   "pygments_lexer": "ipython3",
   "version": "3.13.0"
  }
 },
 "nbformat": 4,
 "nbformat_minor": 2
}
