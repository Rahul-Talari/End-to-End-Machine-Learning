{
 "cells": [
  {
   "cell_type": "code",
   "execution_count": null,
   "metadata": {},
   "outputs": [],
   "source": [
    "import sklearn.model_selection\n",
    "import np\n",
    "import sklearn\n",
    "kf = sklearn.model_selection.KFold(n_splits=5, shuffle=True, random_state=42)\n",
    "scores = []\n",
    "\n",
    "for train_idx, valid_idx in kf.split(X_train, y_train):\n",
    "    X_train_fold, X_valid_fold = X_train[train_idx], X_train[valid_idx]\n",
    "    y_train_fold, y_valid_fold = y_train[train_idx], y_train[valid_idx]\n",
    "    \n",
    "    model.fit(X_train_fold, y_train_fold)\n",
    "    y_pred = model.predict(X_valid_fold)\n",
    "    score = sklearn.metrics.mean_squared_error(y_valid_fold, y_pred)  \n",
    "    scores.append(score)\n",
    "\n",
    "cv_score = np.mean(scores)\n",
    "print(f\"Cross-validation score: {cv_score}\")\n",
    "\n",
    "\n",
    "# (or)\n",
    "\n",
    "cv_score = sklearn.model_selection.cross_val_score(rf_model, X_train, y_train, cv=5, scoring='mean_sqaured_error').mean()\n"
   ]
  },
  {
   "cell_type": "code",
   "execution_count": null,
   "metadata": {},
   "outputs": [],
   "source": []
  }
 ],
 "metadata": {
  "kernelspec": {
   "display_name": "Python 3",
   "language": "python",
   "name": "python3"
  },
  "language_info": {
   "name": "python",
   "version": "3.13.0"
  }
 },
 "nbformat": 4,
 "nbformat_minor": 2
}
