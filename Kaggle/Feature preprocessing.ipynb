{
 "cells": [
  {
   "cell_type": "code",
   "execution_count": null,
   "metadata": {},
   "outputs": [],
   "source": [
    "import sklearn.compose\n",
    "from sklearn.pipeline import make_pipeline\n",
    "from sklearn.preprocessing import OneHotEncoder\n",
    "from sklearn.preprocessing import StandardScaler\n",
    "from sklearn.impute import SimpleImputer\n",
    "import numpy as np\n",
    "\n",
    "train=\"training data\"\n",
    "test=\"testing data\"\n",
    "\n",
    "target = 'Premium Amount'\n",
    "\n",
    "numerical_cols = train.select_dtypes(include=['float32', 'int32']).columns.tolist()\n",
    "if target in numerical_cols:\n",
    "    numerical_cols.remove(target)\n",
    "\n",
    "categorical_cols = train.select_dtypes(include=['object']).columns.tolist()\n",
    "\n",
    "\n",
    "preprocessing = sklearn.compose.ColumnTransformer([\n",
    "    ('num', make_pipeline(SimpleImputer(strategy='mean'), StandardScaler()), numerical_cols),\n",
    "    ('cat', make_pipeline(SimpleImputer(strategy='constant', fill_value='unknown'),\n",
    "                          OneHotEncoder(handle_unknown='ignore')), categorical_cols)\n",
    "], remainder='drop')\n",
    "\n",
    "x_train = train.drop(columns=[target]).copy()\n",
    "x_train = preprocessing.fit_transform(x_train)\n",
    "y_train = np.log1p(train[target])  \n",
    "\n",
    "x_test = preprocessing.transform(test)"
   ]
  }
 ],
 "metadata": {
  "language_info": {
   "name": "python"
  }
 },
 "nbformat": 4,
 "nbformat_minor": 2
}
